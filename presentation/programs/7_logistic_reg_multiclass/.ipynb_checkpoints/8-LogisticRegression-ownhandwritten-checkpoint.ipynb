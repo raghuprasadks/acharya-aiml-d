{
 "cells": [
  {
   "cell_type": "code",
   "execution_count": 1,
   "metadata": {},
   "outputs": [
    {
     "name": "stdout",
     "output_type": "stream",
     "text": [
      "Installed Pillow Version: 7.0.0\n"
     ]
    }
   ],
   "source": [
    "import PIL \n",
    "  \n",
    "print('Installed Pillow Version:', PIL.__version__)"
   ]
  },
  {
   "cell_type": "code",
   "execution_count": 1,
   "metadata": {},
   "outputs": [
    {
     "name": "stdout",
     "output_type": "stream",
     "text": [
      "PNG\n",
      "(562, 456)\n",
      "RGB\n"
     ]
    }
   ],
   "source": [
    "from PIL import Image \n",
    "  \n",
    "  \n",
    "# sample.png is the name of the image \n",
    "# file and assuming that it is uploaded \n",
    "# in the current directory or we need \n",
    "# to give the path \n",
    "image = Image.open('zero.png') \n",
    "  \n",
    "# summarize some details about the image \n",
    "print(image.format) \n",
    "print(image.size) \n",
    "print(image.mode)"
   ]
  },
  {
   "cell_type": "code",
   "execution_count": null,
   "metadata": {},
   "outputs": [],
   "source": []
  }
 ],
 "metadata": {
  "kernelspec": {
   "display_name": "Python 3",
   "language": "python",
   "name": "python3"
  },
  "language_info": {
   "codemirror_mode": {
    "name": "ipython",
    "version": 3
   },
   "file_extension": ".py",
   "mimetype": "text/x-python",
   "name": "python",
   "nbconvert_exporter": "python",
   "pygments_lexer": "ipython3",
   "version": "3.7.6"
  }
 },
 "nbformat": 4,
 "nbformat_minor": 4
}
