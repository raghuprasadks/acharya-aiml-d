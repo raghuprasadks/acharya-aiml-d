{
 "cells": [
  {
   "cell_type": "code",
   "execution_count": 2,
   "metadata": {},
   "outputs": [],
   "source": [
    "class Vehicle():\n",
    "    speed=0\n",
    "    def start(self):\n",
    "        print('vehicle started')\n",
    "        self.speed = self.speed + 2\n",
    "        \n",
    "    def move (self):\n",
    "        self.speed = self.speed + 5\n",
    "        print('move ',self.speed)\n",
    "        \n",
    "    def stop(self):\n",
    "        self.speed = 0\n",
    "        \n",
    "\n",
    "        \n",
    "        "
   ]
  },
  {
   "cell_type": "code",
   "execution_count": 8,
   "metadata": {},
   "outputs": [
    {
     "name": "stdout",
     "output_type": "stream",
     "text": [
      "vehicle started\n",
      "move  7\n"
     ]
    }
   ],
   "source": [
    "myvehicle1 = Vehicle()\n",
    "myvehicle1.start()\n",
    "myvehicle1.move()"
   ]
  },
  {
   "cell_type": "code",
   "execution_count": 7,
   "metadata": {},
   "outputs": [
    {
     "name": "stdout",
     "output_type": "stream",
     "text": [
      "speed is  2\n"
     ]
    }
   ],
   "source": [
    "print('speed is ',myvehicle1.speed)"
   ]
  },
  {
   "cell_type": "code",
   "execution_count": 5,
   "metadata": {},
   "outputs": [],
   "source": [
    "def simpleinterest(p,r,t):\n",
    "    return p*r*t/100"
   ]
  },
  {
   "cell_type": "code",
   "execution_count": 6,
   "metadata": {},
   "outputs": [
    {
     "name": "stdout",
     "output_type": "stream",
     "text": [
      "si is  40.0\n"
     ]
    }
   ],
   "source": [
    "si=simpleinterest(1000,4,1)\n",
    "print('si is ',si)"
   ]
  },
  {
   "cell_type": "code",
   "execution_count": null,
   "metadata": {},
   "outputs": [],
   "source": []
  }
 ],
 "metadata": {
  "kernelspec": {
   "display_name": "Python 3",
   "language": "python",
   "name": "python3"
  },
  "language_info": {
   "codemirror_mode": {
    "name": "ipython",
    "version": 3
   },
   "file_extension": ".py",
   "mimetype": "text/x-python",
   "name": "python",
   "nbconvert_exporter": "python",
   "pygments_lexer": "ipython3",
   "version": "3.7.6"
  }
 },
 "nbformat": 4,
 "nbformat_minor": 4
}
